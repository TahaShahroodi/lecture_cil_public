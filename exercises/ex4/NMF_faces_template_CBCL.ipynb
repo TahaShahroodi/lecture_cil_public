{
 "cells": [
  {
   "cell_type": "markdown",
   "metadata": {},
   "source": [
    "# Non-Negative Matrix Factorization"
   ]
  },
  {
   "cell_type": "markdown",
   "metadata": {},
   "source": [
    "## Implementing NMF for Image Analysis"
   ]
  },
  {
   "cell_type": "code",
   "execution_count": null,
   "metadata": {
    "collapsed": true
   },
   "outputs": [],
   "source": [
    "%matplotlib inline\n",
    "import os,sys\n",
    "import matplotlib\n",
    "import numpy as np\n",
    "import matplotlib.pyplot as plt\n",
    "from PIL import Image"
   ]
  },
  {
   "cell_type": "markdown",
   "metadata": {},
   "source": [
    "### Load data"
   ]
  },
  {
   "cell_type": "code",
   "execution_count": null,
   "metadata": {
    "collapsed": true
   },
   "outputs": [],
   "source": [
    "image_dir = \"face/\"\n",
    "files = os.listdir(image_dir)\n",
    "n = len(files)\n",
    "print(\"Loading \" + str(n) + \" images\")"
   ]
  },
  {
   "cell_type": "code",
   "execution_count": null,
   "metadata": {
    "collapsed": true
   },
   "outputs": [],
   "source": [
    "imgs = [Image.open(image_dir + files[i]) for i in range(n)]\n",
    "print(imgs[1].mode)  #gray scale images "
   ]
  },
  {
   "cell_type": "code",
   "execution_count": null,
   "metadata": {
    "collapsed": true
   },
   "outputs": [],
   "source": [
    "plt.matshow(imgs[4]) # Display one image\n",
    "plt.colorbar()"
   ]
  },
  {
   "cell_type": "markdown",
   "metadata": {},
   "source": [
    "### Build $X$"
   ]
  },
  {
   "cell_type": "code",
   "execution_count": null,
   "metadata": {
    "collapsed": true
   },
   "outputs": [],
   "source": [
    "# All images have the same size\n",
    "img0 = imgs[0]\n",
    "width, height = img0.size\n",
    "print(\"image shape: \", [width, height])\n",
    "# Compute input matrix X\n",
    "X_list = [np.ravel(imgs[i].getdata()) for i in range(n)]\n",
    "X = np.array(X_list, dtype=np.float32)  # change list to array \n",
    "print(\"X shape: \", X.shape)"
   ]
  },
  {
   "cell_type": "markdown",
   "metadata": {},
   "source": [
    "### Initialize $U$ and $V$"
   ]
  },
  {
   "cell_type": "code",
   "execution_count": null,
   "metadata": {
    "collapsed": true
   },
   "outputs": [],
   "source": [
    "rank = 40\n",
    "lam = 5e-1 # lambda value\n",
    "# ----rand. init. in [0, 1]\n",
    "print \"rand. init.\"\n",
    "U, V = np.random.random((rank, X.shape[0])), np.random.random((rank, X.shape[1]))\n",
    "#  ----init. to be constant matrix, \n",
    "# c = .5 \n",
    "# print \"consant init., c:\", c\n",
    "# U, V = c*np.ones((rank, X.shape[0])), c*np.ones((rank, X.shape[1]))"
   ]
  },
  {
   "cell_type": "markdown",
   "metadata": {
    "collapsed": true
   },
   "source": [
    "### Run Projected  ALS"
   ]
  },
  {
   "cell_type": "code",
   "execution_count": null,
   "metadata": {
    "collapsed": true
   },
   "outputs": [],
   "source": [
    "nm_iterations = 200\n",
    "for _ in range(nm_iterations):\n",
    "\n",
    "    # fill your implementation of the Projected ALS algorithm here\n",
    "    # hint:  you can use existing least square solvers provided by Python libraries,\n",
    "    # for example, np.linalg.lstsq\n",
    "    "
   ]
  },
  {
   "cell_type": "markdown",
   "metadata": {},
   "source": [
    "### Analyze the results"
   ]
  },
  {
   "cell_type": "code",
   "execution_count": null,
   "metadata": {
    "collapsed": true
   },
   "outputs": [],
   "source": [
    "new_images_stacked = np.reshape(V, (-1, width))\n",
    "print \"V shape:\",  V.shape\n",
    "print ('U shape: ', U.shape)\n",
    "print \"V.max:\",  V.max(), \"U.max:\", U.max()\n",
    "fig1 = plt.figure()\n",
    "plt.matshow((U[..., 0:600:20]) ) \n",
    "plt.colorbar()\n",
    "\n",
    "# plot the first quarter of base images\n",
    "plt.matshow(new_images_stacked [0:int(0.25*rank*height) , ...  ] )\n",
    "# or plot all the images by uncommenting the following\n",
    "# plt.matshow(new_images_stacked)\n",
    "plt.colorbar()"
   ]
  }
 ],
 "metadata": {
  "kernelspec": {
   "display_name": "Python 2",
   "language": "python",
   "name": "python2"
  },
  "language_info": {
   "codemirror_mode": {
    "name": "ipython",
    "version": 2
   },
   "file_extension": ".py",
   "mimetype": "text/x-python",
   "name": "python",
   "nbconvert_exporter": "python",
   "pygments_lexer": "ipython2",
   "version": "2.7.11"
  }
 },
 "nbformat": 4,
 "nbformat_minor": 1
}
